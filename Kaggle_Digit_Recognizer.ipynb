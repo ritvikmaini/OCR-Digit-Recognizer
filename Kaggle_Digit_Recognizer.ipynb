{
 "cells": [
  {
   "cell_type": "code",
   "execution_count": 1,
   "outputs": [],
   "source": [
    "import pandas as pd\n",
    "import numpy as np\n",
    "from tensorflow import keras\n",
    "from keras.layers import Conv2D,MaxPooling2D,Flatten,Dense,Dropout\n",
    "from keras.utils import to_categorical\n",
    "# from keras.optimizers import RMSprop\n",
    "from sklearn.model_selection import train_test_split\n",
    "from keras.callbacks import ReduceLROnPlateau\n",
    "#from kerastuner.tuners import RandomSearch"
   ],
   "metadata": {
    "collapsed": false,
    "ExecuteTime": {
     "start_time": "2023-06-30T19:35:40.882074Z",
     "end_time": "2023-06-30T19:35:47.168304Z"
    }
   }
  },
  {
   "cell_type": "code",
   "execution_count": 2,
   "outputs": [],
   "source": [
    "train=pd.read_csv('data/train.csv')\n",
    "test=pd.read_csv('data/test.csv')"
   ],
   "metadata": {
    "collapsed": false,
    "ExecuteTime": {
     "start_time": "2023-06-30T19:35:47.169684Z",
     "end_time": "2023-06-30T19:35:48.599603Z"
    }
   }
  },
  {
   "cell_type": "code",
   "execution_count": 3,
   "outputs": [],
   "source": [
    "#preprocessing\n",
    "X=train.drop(labels=['label'],axis=1)\n",
    "y=train['label']\n",
    "\n",
    "#shuffle training data\n",
    "train = train.sample(frac=1, random_state=42).reset_index(drop=True)\n",
    "#one hot encode labels\n",
    "Y=to_categorical(y,num_classes=10)\n",
    "#normalize\n",
    "X=X/255.0\n",
    "test=test/255.0\n",
    "#reshape image in 3 dimensions\n",
    "X=X.values.reshape(-1,28,28,1)\n",
    "test=test.values.reshape(-1,28,28,1)\n",
    "\n",
    "X_train,X_test,Y_train,Y_test=train_test_split(X,Y,test_size=0.2,random_state=42)\n",
    "X_train = X_train / 255.0\n",
    "X_test = X_test / 255.0"
   ],
   "metadata": {
    "collapsed": false,
    "ExecuteTime": {
     "start_time": "2023-06-30T19:35:48.659117Z",
     "end_time": "2023-06-30T19:35:49.100395Z"
    }
   }
  },
  {
   "cell_type": "code",
   "execution_count": 4,
   "outputs": [],
   "source": [
    "model=keras.Sequential([\n",
    "    Conv2D(32,(3,3),activation='relu',input_shape=(28,28,1)),\n",
    "    MaxPooling2D(2,2),\n",
    "    Dropout(0.25),\n",
    "    Conv2D(64,(3,3),activation='relu'),\n",
    "    MaxPooling2D(2,2),\n",
    "    Dropout(0.25),\n",
    "    Flatten(),\n",
    "    Dense(512,activation='relu'),\n",
    "    Dropout(0.5),\n",
    "    Dense(10,activation='softmax')\n",
    "])"
   ],
   "metadata": {
    "collapsed": false,
    "ExecuteTime": {
     "start_time": "2023-06-30T19:35:49.101776Z",
     "end_time": "2023-06-30T19:35:49.178372Z"
    }
   }
  },
  {
   "cell_type": "code",
   "execution_count": 5,
   "outputs": [
    {
     "name": "stdout",
     "output_type": "stream",
     "text": [
      "Epoch 1/15\n",
      "336/336 [==============================] - 5s 15ms/step - loss: 1.6044 - accuracy: 0.4636 - val_loss: 0.6167 - val_accuracy: 0.8193 - lr: 0.0010\n",
      "Epoch 2/15\n",
      "336/336 [==============================] - 5s 15ms/step - loss: 0.5942 - accuracy: 0.8100 - val_loss: 0.3634 - val_accuracy: 0.8877 - lr: 0.0010\n",
      "Epoch 3/15\n",
      "336/336 [==============================] - 5s 16ms/step - loss: 0.3975 - accuracy: 0.8762 - val_loss: 0.2416 - val_accuracy: 0.9287 - lr: 0.0010\n",
      "Epoch 4/15\n",
      "336/336 [==============================] - 6s 17ms/step - loss: 0.2862 - accuracy: 0.9091 - val_loss: 0.1750 - val_accuracy: 0.9483 - lr: 0.0010\n",
      "Epoch 5/15\n",
      "336/336 [==============================] - 6s 17ms/step - loss: 0.2229 - accuracy: 0.9307 - val_loss: 0.1383 - val_accuracy: 0.9582 - lr: 0.0010\n",
      "Epoch 6/15\n",
      "336/336 [==============================] - 6s 17ms/step - loss: 0.1861 - accuracy: 0.9407 - val_loss: 0.1263 - val_accuracy: 0.9593 - lr: 0.0010\n",
      "Epoch 7/15\n",
      "336/336 [==============================] - 6s 17ms/step - loss: 0.1683 - accuracy: 0.9460 - val_loss: 0.1100 - val_accuracy: 0.9662 - lr: 0.0010\n",
      "Epoch 8/15\n",
      "336/336 [==============================] - 6s 17ms/step - loss: 0.1504 - accuracy: 0.9535 - val_loss: 0.1024 - val_accuracy: 0.9675 - lr: 0.0010\n",
      "Epoch 9/15\n",
      "336/336 [==============================] - 6s 17ms/step - loss: 0.1410 - accuracy: 0.9550 - val_loss: 0.0946 - val_accuracy: 0.9686 - lr: 0.0010\n",
      "Epoch 10/15\n",
      "336/336 [==============================] - 5s 16ms/step - loss: 0.1338 - accuracy: 0.9590 - val_loss: 0.0877 - val_accuracy: 0.9711 - lr: 0.0010\n",
      "Epoch 11/15\n",
      "336/336 [==============================] - 6s 17ms/step - loss: 0.1252 - accuracy: 0.9603 - val_loss: 0.0830 - val_accuracy: 0.9735 - lr: 0.0010\n",
      "Epoch 12/15\n",
      "336/336 [==============================] - 6s 17ms/step - loss: 0.1184 - accuracy: 0.9635 - val_loss: 0.0833 - val_accuracy: 0.9742 - lr: 0.0010\n",
      "Epoch 13/15\n",
      "336/336 [==============================] - 5s 16ms/step - loss: 0.1141 - accuracy: 0.9645 - val_loss: 0.0779 - val_accuracy: 0.9754 - lr: 0.0010\n",
      "Epoch 14/15\n",
      "336/336 [==============================] - 6s 17ms/step - loss: 0.1099 - accuracy: 0.9654 - val_loss: 0.0725 - val_accuracy: 0.9768 - lr: 0.0010\n",
      "Epoch 15/15\n",
      "336/336 [==============================] - 5s 16ms/step - loss: 0.1069 - accuracy: 0.9672 - val_loss: 0.0740 - val_accuracy: 0.9767 - lr: 0.0010\n"
     ]
    }
   ],
   "source": [
    "#compiling model\n",
    "model.compile(optimizer='rmsprop',loss='categorical_crossentropy',metrics=['accuracy'])\n",
    "#fitting model\n",
    "# Define the callback\n",
    "#sets a learning rate\n",
    "reduce_lr = ReduceLROnPlateau(monitor='val_loss', factor=0.1, patience=3, min_lr=0.00001)\n",
    "# When fitting the model, add the callback\n",
    "history = model.fit(X_train, Y_train, batch_size=100, epochs=15 , validation_data=(X_test, Y_test), callbacks=[reduce_lr])"
   ],
   "metadata": {
    "collapsed": false,
    "ExecuteTime": {
     "start_time": "2023-06-30T19:35:49.182279Z",
     "end_time": "2023-06-30T19:37:11.874948Z"
    }
   }
  },
  {
   "cell_type": "code",
   "execution_count": 6,
   "outputs": [
    {
     "name": "stdout",
     "output_type": "stream",
     "text": [
      "875/875 [==============================] - 2s 2ms/step\n"
     ]
    }
   ],
   "source": [
    "results=model.predict(test)\n",
    "results=np.argmax(results,axis=1)\n",
    "results=pd.Series(results,name=\"label\")\n",
    "submission=pd.concat([pd.Series(range(1,len(results)+1),name=\"ImageId\"),results],axis=1)\n",
    "submission.to_csv('data/submission.csv',index=False)"
   ],
   "metadata": {
    "collapsed": false,
    "ExecuteTime": {
     "start_time": "2023-06-30T19:37:11.876391Z",
     "end_time": "2023-06-30T19:37:14.317574Z"
    }
   }
  },
  {
   "cell_type": "code",
   "execution_count": 6,
   "outputs": [],
   "source": [],
   "metadata": {
    "collapsed": false,
    "ExecuteTime": {
     "start_time": "2023-06-30T19:37:14.318028Z",
     "end_time": "2023-06-30T19:37:14.319377Z"
    }
   }
  }
 ],
 "metadata": {
  "kernelspec": {
   "display_name": "Python 3",
   "language": "python",
   "name": "python3"
  },
  "language_info": {
   "codemirror_mode": {
    "name": "ipython",
    "version": 2
   },
   "file_extension": ".py",
   "mimetype": "text/x-python",
   "name": "python",
   "nbconvert_exporter": "python",
   "pygments_lexer": "ipython2",
   "version": "2.7.6"
  }
 },
 "nbformat": 4,
 "nbformat_minor": 0
}
